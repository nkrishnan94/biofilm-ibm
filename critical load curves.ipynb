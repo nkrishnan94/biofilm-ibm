{
 "cells": [
  {
   "cell_type": "code",
   "execution_count": 1,
   "metadata": {},
   "outputs": [],
   "source": [
    "import numpy as np\n",
    "import os\n",
    "import glob\n",
    "import matplotlib.pyplot as plt\n",
    "from read_funcs import*\n",
    "import pandas as pd\n",
    "import seaborn as sns"
   ]
  },
  {
   "cell_type": "code",
   "execution_count": 2,
   "metadata": {},
   "outputs": [],
   "source": [
    "def getLogOut(file):\n",
    "    i=0\n",
    "    d_str = []\n",
    "    with open (file) as myfile:\n",
    "        for line in myfile:\n",
    "\n",
    "            if \"Loop time\" in line:\n",
    "                i=0\n",
    "            if i==1:\n",
    "                d_str.append(line)\n",
    "            if \"Step Temp Press\" in line:\n",
    "                i=1\n",
    "                \n",
    "    return np.loadtxt(np.array(d_str))"
   ]
  },
  {
   "cell_type": "code",
   "execution_count": 46,
   "metadata": {},
   "outputs": [],
   "source": [
    "KA_logf = glob.glob('/Users/nikhilkrishnan/Dropbox/Research/PhD/biofilms/LAMMPS_ibm/local_sims/sim_files_KA/*.log')\n",
    "KA_outa = glob.glob('/Users/nikhilkrishnan/Dropbox/Research/PhD/biofilms/LAMMPS_ibm/local_sims/sim_files_KA/traj*.out')"
   ]
  },
  {
   "cell_type": "code",
   "execution_count": 99,
   "metadata": {},
   "outputs": [],
   "source": [
    "l=glob.glob('/Users/nikhilkrishnan/Dropbox/Research/PhD/biofilms/LAMMPS_ibm/local_sims/sim_files_KA/traj*len_50*temp_0.5.out')[0]\n",
    "tTot= len(getTimeArr(l))\n",
    "cellNum = int(getAtomNumber(l))\n",
    "atomArr = getLastCellArr(l,tTot,cellNum)"
   ]
  },
  {
   "cell_type": "code",
   "execution_count": 100,
   "metadata": {},
   "outputs": [
    {
     "data": {
      "text/plain": [
       "'/Users/nikhilkrishnan/Dropbox/Research/PhD/biofilms/LAMMPS_ibm/local_sims/sim_files_KA/traj_KA_01_22_21_10_22_10_thick_6_len_50_scale_0.6_rep_0_temp_0.5.out'"
      ]
     },
     "execution_count": 100,
     "metadata": {},
     "output_type": "execute_result"
    }
   ],
   "source": [
    "l"
   ]
  },
  {
   "cell_type": "code",
   "execution_count": 101,
   "metadata": {},
   "outputs": [
    {
     "data": {
      "text/plain": [
       "<matplotlib.collections.PathCollection at 0x7f97710c95b0>"
      ]
     },
     "execution_count": 101,
     "metadata": {},
     "output_type": "execute_result"
    },
    {
     "data": {
      "image/png": "[encoded data removed]",
      "text/plain": [
       "<Figure size 432x288 with 1 Axes>"
      ]
     },
     "metadata": {
      "needs_background": "light"
     },
     "output_type": "display_data"
    }
   ],
   "source": [
    "plt.scatter(atomArr[:,0],atomArr[:,1])\n"
   ]
  },
  {
   "cell_type": "code",
   "execution_count": 40,
   "metadata": {},
   "outputs": [],
   "source": [
    "\n",
    "lengths = np.array([50,75,100,125,150,175,200,225,250])\n",
    "temps = np.array([0.1,0.3,0.5])\n",
    "stressArr = np.zeros((1,len(lengths),len(temps),142))\n",
    "logFiles = ['KA','LJ']\n",
    "for s in range(1):\n",
    "    for l,length in enumerate(lengths):\n",
    "        for t,temp in enumerate(temps):\n",
    "            logs = glob.glob('/Users/nikhilkrishnan/Dropbox/Research/PhD/biofilms/LAMMPS_ibm/local_sims/sim_files_'+logFiles[s]+'/*len_'+str(length)+'*temp_'+str(temp)+'.log')\n",
    "            log = logs[0]\n",
    "    #logFile=logFiles[t]\n",
    "    #cnt=0\n",
    "    \n",
    "    #for l in logFile:\n",
    "        \n",
    "\n",
    "        #lenl =int(l.split('len_')[1].split('_')[0])\n",
    "        #ci = np.argwhere(lenl==lengths)[0][0]\n",
    "        #IDl =(int(l.split('rep_')[1].split('.')[0])+(100*(np.argwhere(thickl==thickness)[0][0])))%100\n",
    "        #cnt+=1\n",
    "        #try:\n",
    "            stressArr[s,l,t,:len(getLogOut(log))] =getLogOut(log)[:,-1]\n",
    "        #except:\n",
    "            #print('exception')"
   ]
  },
  {
   "cell_type": "code",
   "execution_count": 102,
   "metadata": {},
   "outputs": [
    {
     "data": {
      "text/plain": [
       "<matplotlib.collections.PathCollection at 0x7f9730c99ca0>"
      ]
     },
     "execution_count": 102,
     "metadata": {},
     "output_type": "execute_result"
    },
    {
     "data": {
      "image/png": "[encoded data removed]",
      "text/plain": [
       "<Figure size 432x288 with 1 Axes>"
      ]
     },
     "metadata": {
      "needs_background": "light"
     },
     "output_type": "display_data"
    }
   ],
   "source": [
    "plt.scatter(np.arange(len(lengths)),np.max(-stressArr[0,:,1,50:],axis=1))"
   ]
  },
  {
   "cell_type": "code",
   "execution_count": 104,
   "metadata": {},
   "outputs": [
    {
     "data": {
      "text/plain": [
       "<matplotlib.collections.PathCollection at 0x7f9730da6b80>"
      ]
     },
     "execution_count": 104,
     "metadata": {},
     "output_type": "execute_result"
    },
    {
     "data": {
      "image/png": "[encoded data removed]",
      "text/plain": [
       "<Figure size 432x288 with 1 Axes>"
      ]
     },
     "metadata": {
      "needs_background": "light"
     },
     "output_type": "display_data"
    }
   ],
   "source": [
    "plt.scatter(lengths,np.max(-stressArr[0,:,0,50:],axis=1))"
   ]
  },
  {
   "cell_type": "code",
   "execution_count": null,
   "metadata": {},
   "outputs": [],
   "source": []
  },
  {
   "cell_type": "code",
   "execution_count": 50,
   "metadata": {},
   "outputs": [],
   "source": [
    "cellNums = []\n",
    "lenls =[]\n",
    "\n",
    "for l in  KA_outa:\n",
    "\n",
    "    tTot= len(getTimeArr(l))\n",
    "    cellNum = int(getAtomNumber(l))\n",
    "    lenl =int(l.split('len_')[1].split('_')[0])\n",
    "    cellNums.append(cellNum)\n",
    "    lenls.append(lenl)\n"
   ]
  },
  {
   "cell_type": "code",
   "execution_count": 51,
   "metadata": {},
   "outputs": [
    {
     "data": {
      "text/plain": [
       "[225,\n",
       " 100,\n",
       " 175,\n",
       " 225,\n",
       " 100,\n",
       " 175,\n",
       " 50,\n",
       " 75,\n",
       " 250,\n",
       " 100,\n",
       " 175,\n",
       " 50,\n",
       " 250,\n",
       " 225,\n",
       " 125,\n",
       " 150,\n",
       " 75,\n",
       " 150,\n",
       " 75,\n",
       " 50,\n",
       " 200,\n",
       " 200,\n",
       " 125,\n",
       " 200,\n",
       " 125,\n",
       " 150,\n",
       " 250]"
      ]
     },
     "execution_count": 51,
     "metadata": {},
     "output_type": "execute_result"
    }
   ],
   "source": [
    "lenls"
   ]
  },
  {
   "cell_type": "code",
   "execution_count": 52,
   "metadata": {},
   "outputs": [
    {
     "data": {
      "text/plain": [
       "array([ 2700,  2700,  2700,  4050,  4050,  4050,  5400,  5400,  5400,\n",
       "        6750,  6750,  6750,  8100,  8100,  8100,  9450,  9450,  9450,\n",
       "       10800, 10800, 10800, 12150, 12150, 12150, 13500, 13500, 13500])"
      ]
     },
     "execution_count": 52,
     "metadata": {},
     "output_type": "execute_result"
    }
   ],
   "source": [
    "np.sort(cellNums)"
   ]
  },
  {
   "cell_type": "code",
   "execution_count": null,
   "metadata": {},
   "outputs": [],
   "source": []
  }
 ],
 "metadata": {
  "kernelspec": {
   "display_name": "Python 3",
   "language": "python",
   "name": "python3"
  },
  "language_info": {
   "codemirror_mode": {
    "name": "ipython",
    "version": 3
   },
   "file_extension": ".py",
   "mimetype": "text/x-python",
   "name": "python",
   "nbconvert_exporter": "python",
   "pygments_lexer": "ipython3",
   "version": "3.8.3"
  }
 },
 "nbformat": 4,
 "nbformat_minor": 4
}
