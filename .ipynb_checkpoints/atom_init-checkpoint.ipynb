{
 "cells": [
  {
   "cell_type": "code",
   "execution_count": 110,
   "metadata": {},
   "outputs": [],
   "source": [
    "import numpy as np\n",
    "import glob\n",
    "import os\n",
    "\n",
    "import numpy as np\n",
    "import glob\n",
    "import os\n",
    "import matplotlib.pyplot as plt\n",
    "\n",
    "\n",
    "\n",
    "\n",
    "\n",
    "\n",
    "from mpl_toolkits.mplot3d import Axes3D  # noqa: F401 unused import\n",
    "\n",
    "\n",
    "import matplotlib.pyplot as plt\n",
    "import numpy as np"
   ]
  },
  {
   "cell_type": "code",
   "execution_count": 111,
   "metadata": {},
   "outputs": [],
   "source": [
    "file = \"atoms_init_f.bp\"\n",
    "f = open(file)"
   ]
  },
  {
   "cell_type": "code",
   "execution_count": 112,
   "metadata": {},
   "outputs": [],
   "source": [
    "t_str = []\n",
    "with open (file) as myfile:\n",
    "    i=0\n",
    "    for line in myfile:\n",
    "        if i==1:\n",
    "            t_str.append(line)\n",
    "            i=0\n",
    "        if \"ITEM: TIMESTEP\\n\" in line:\n",
    "            i=1\n",
    "            \n",
    "\n",
    "t_arr = [int(i) for i in t_str]"
   ]
  },
  {
   "cell_type": "code",
   "execution_count": null,
   "metadata": {},
   "outputs": [],
   "source": []
  },
  {
   "cell_type": "code",
   "execution_count": 122,
   "metadata": {},
   "outputs": [],
   "source": [
    "cell_arr  = np.zeros((7500, 9 ))\n",
    "\n",
    "i=0\n",
    "i_end=len(t_arr)-1\n",
    "cell_str = []\n",
    "with open (file) as myfile:\n",
    "    for line in myfile:\n",
    "\n",
    "        if (\"ITEM: ATOMS\" in line) and (i==i_end):\n",
    "            break\n",
    "\n",
    "        if (\"ITEM: ATOMS\" in line) and (i<i_end):\n",
    "            i+=1\n",
    "\n",
    "    for line in myfile:\n",
    "        if \"ITEM: TIMESTEP\" in line:\n",
    "            break\n",
    "        cell_str.append(line)\n",
    "\n",
    "\n",
    "cell_arr = np.array([np.array(cell_str[i].split( )).astype(float) for i in range(len(cell_str))])\n",
    "\n",
    "\n",
    "\n",
    "xlim = 90\n",
    "ylim = 1400\n",
    "zlim = 300\n",
    "\n",
    "cell_arr = cell_arr[(cell_arr[:,3]*zlim>0) &( (cell_arr[:,2]*ylim<1400) | (cell_arr[:,2]*ylim>1100))]\n",
    "cell_arr[:,0]=cell_arr[:,0].astype(int)\n",
    "cell_arr[:,1:] = np.array([xlim,ylim,zlim])*cell_arr[:,1:]\n",
    "cell_arr_type = np.ones((len(cell_arr),5))\n",
    "\n",
    "cell_arr_type[:,0] = np.arange(1,len(cell_arr)+1)\n",
    "cell_arr_type[:,2:] = cell_arr[:,1:]\n",
    "cell_arr_type=cell_arr_type.astype(int)"
   ]
  },
  {
   "cell_type": "code",
   "execution_count": 123,
   "metadata": {},
   "outputs": [],
   "source": [
    "np.savetxt('atoms_raw_in.txt', cell_arr_type,fmt = '%i')\n"
   ]
  },
  {
   "cell_type": "code",
   "execution_count": 124,
   "metadata": {},
   "outputs": [
    {
     "data": {
      "text/plain": [
       "7500"
      ]
     },
     "execution_count": 124,
     "metadata": {},
     "output_type": "execute_result"
    }
   ],
   "source": [
    "len(cell_arr[:,0].astype(int))"
   ]
  },
  {
   "cell_type": "code",
   "execution_count": 99,
   "metadata": {},
   "outputs": [
    {
     "data": {
      "text/plain": [
       "array([[4542,    1,   89,   36,  298],\n",
       "       [ 612,    1,   44,   63,  299],\n",
       "       [2454,    1,   38,  104,  295],\n",
       "       ...,\n",
       "       [5040,    1,   60, 1384,  288],\n",
       "       [ 277,    1,   76, 1390,  288],\n",
       "       [3811,    1,   66, 1397,  278]])"
      ]
     },
     "execution_count": 99,
     "metadata": {},
     "output_type": "execute_result"
    }
   ],
   "source": [
    "cell_arr_type"
   ]
  },
  {
   "cell_type": "code",
   "execution_count": 71,
   "metadata": {},
   "outputs": [
    {
     "data": {
      "text/plain": [
       "array([[  89.88966,   36.56212,  298.5843 ],\n",
       "       [  44.7237 ,   63.87822,  299.8545 ],\n",
       "       [  38.72502,  104.35544,  295.5351 ],\n",
       "       ...,\n",
       "       [  60.67863, 1384.537  ,  288.6579 ],\n",
       "       [  76.56813, 1390.6284 ,  288.903  ],\n",
       "       [  66.19977, 1397.984  ,  278.1117 ]])"
      ]
     },
     "execution_count": 71,
     "metadata": {},
     "output_type": "execute_result"
    }
   ],
   "source": [
    "cell_arr[:,1:] = np.array([xlim,ylim,zlim])*cell_arr[:,1:]"
   ]
  },
  {
   "cell_type": "code",
   "execution_count": 89,
   "metadata": {},
   "outputs": [
    {
     "data": {
      "text/plain": [
       "array([[1.],\n",
       "       [1.],\n",
       "       [1.],\n",
       "       ...,\n",
       "       [1.],\n",
       "       [1.],\n",
       "       [1.]])"
      ]
     },
     "execution_count": 89,
     "metadata": {},
     "output_type": "execute_result"
    }
   ],
   "source": [
    "np.ones(len(cell_arr)).reshape((2689,1))"
   ]
  },
  {
   "cell_type": "code",
   "execution_count": 91,
   "metadata": {},
   "outputs": [
    {
     "ename": "ValueError",
     "evalue": "zero-dimensional arrays cannot be concatenated",
     "output_type": "error",
     "traceback": [
      "\u001b[0;31m---------------------------------------------------------------------------\u001b[0m",
      "\u001b[0;31mValueError\u001b[0m                                Traceback (most recent call last)",
      "\u001b[0;32m<ipython-input-91-b5c9dc270ba0>\u001b[0m in \u001b[0;36m<module>\u001b[0;34m\u001b[0m\n\u001b[0;32m----> 1\u001b[0;31m \u001b[0mnp\u001b[0m\u001b[0;34m.\u001b[0m\u001b[0mconcatenate\u001b[0m\u001b[0;34m(\u001b[0m\u001b[0mcell_arr\u001b[0m\u001b[0;34m[\u001b[0m\u001b[0;34m:\u001b[0m\u001b[0;34m,\u001b[0m\u001b[0;36m1\u001b[0m\u001b[0;34m]\u001b[0m\u001b[0;34m)\u001b[0m\u001b[0;34m\u001b[0m\u001b[0;34m\u001b[0m\u001b[0m\n\u001b[0m",
      "\u001b[0;32m<__array_function__ internals>\u001b[0m in \u001b[0;36mconcatenate\u001b[0;34m(*args, **kwargs)\u001b[0m\n",
      "\u001b[0;31mValueError\u001b[0m: zero-dimensional arrays cannot be concatenated"
     ]
    }
   ],
   "source": []
  },
  {
   "cell_type": "code",
   "execution_count": null,
   "metadata": {},
   "outputs": [],
   "source": []
  }
 ],
 "metadata": {
  "kernelspec": {
   "display_name": "Python 3",
   "language": "python",
   "name": "python3"
  },
  "language_info": {
   "codemirror_mode": {
    "name": "ipython",
    "version": 3
   },
   "file_extension": ".py",
   "mimetype": "text/x-python",
   "name": "python",
   "nbconvert_exporter": "python",
   "pygments_lexer": "ipython3",
   "version": "3.8.3"
  }
 },
 "nbformat": 4,
 "nbformat_minor": 4
}
