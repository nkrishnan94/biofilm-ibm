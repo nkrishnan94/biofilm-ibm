{
 "cells": [
  {
   "cell_type": "code",
   "execution_count": 45,
   "metadata": {},
   "outputs": [],
   "source": [
    "import numpy as np\n",
    "import glob\n",
    "import os\n",
    "\n",
    "import numpy as np\n",
    "import glob\n",
    "import os\n",
    "import matplotlib.pyplot as plt\n",
    "\n",
    "\n",
    "\n",
    "\n",
    "\n",
    "\n",
    "from mpl_toolkits.mplot3d import Axes3D  # noqa: F401 unused import\n",
    "\n",
    "\n",
    "import matplotlib.pyplot as plt\n",
    "import numpy as np"
   ]
  },
  {
   "cell_type": "code",
   "execution_count": 46,
   "metadata": {},
   "outputs": [],
   "source": [
    "file = \"atoms_init_f.bp\"\n",
    "f = open(file)"
   ]
  },
  {
   "cell_type": "code",
   "execution_count": 47,
   "metadata": {},
   "outputs": [],
   "source": [
    "t_str = []\n",
    "with open (file) as myfile:\n",
    "    i=0\n",
    "    for line in myfile:\n",
    "        if i==1:\n",
    "            t_str.append(line)\n",
    "            i=0\n",
    "        if \"ITEM: TIMESTEP\\n\" in line:\n",
    "            i=1\n",
    "            \n",
    "\n",
    "t_arr = [int(i) for i in t_str]"
   ]
  },
  {
   "cell_type": "code",
   "execution_count": null,
   "metadata": {},
   "outputs": [],
   "source": []
  },
  {
   "cell_type": "code",
   "execution_count": 65,
   "metadata": {},
   "outputs": [],
   "source": [
    "cell_arr  = np.zeros((7500, 9 ))\n",
    "\n",
    "i=0\n",
    "i_end=len(t_arr)-1\n",
    "cell_str = []\n",
    "with open (file) as myfile:\n",
    "    for line in myfile:\n",
    "\n",
    "        if (\"ITEM: ATOMS\" in line) and (i==i_end):\n",
    "            break\n",
    "\n",
    "        if (\"ITEM: ATOMS\" in line) and (i<i_end):\n",
    "            i+=1\n",
    "\n",
    "    for line in myfile:\n",
    "        if \"ITEM: TIMESTEP\" in line:\n",
    "            break\n",
    "        cell_str.append(line)\n",
    "\n",
    "\n",
    "cell_arr = np.array([np.array(cell_str[i].split( )).astype(float) for i in range(len(cell_str))])\n",
    "\n",
    "\n",
    "\n",
    "xlim = 90\n",
    "ylim = 600\n",
    "zlim = 100\n",
    "\n",
    "\n",
    "cell_arr = cell_arr[ ((cell_arr[:,3]*zlim>45) )| ( (cell_arr[:,2]*ylim<100) | (cell_arr[:,2]*ylim>500)) , :]\n",
    "cell_arr[:,0]=cell_arr[:,0].astype(int)\n",
    "cell_arr[:,1:] = np.array([xlim,ylim,zlim])*cell_arr[:,1:]\n",
    "cell_arr_type = np.ones((len(cell_arr),6))\n",
    "cell_arr_type[:,0] = np.arange(1,len(cell_arr)+1)\n",
    "cell_arr_type[:,1] = np.arange(1,len(cell_arr)+1)\n",
    "cell_arr_type[:,3:] = cell_arr[:,1:]\n",
    "cell_arr_type=cell_arr_type.astype(int)"
   ]
  },
  {
   "cell_type": "code",
   "execution_count": 70,
   "metadata": {},
   "outputs": [],
   "source": [
    "np.savetxt('atoms_raw_in.txt', cell_arr_type,fmt = '%i')\n"
   ]
  },
  {
   "cell_type": "code",
   "execution_count": 71,
   "metadata": {},
   "outputs": [
    {
     "data": {
      "text/plain": [
       "5246"
      ]
     },
     "execution_count": 71,
     "metadata": {},
     "output_type": "execute_result"
    }
   ],
   "source": [
    "len(cell_arr[:,0].astype(int))"
   ]
  },
  {
   "cell_type": "code",
   "execution_count": 72,
   "metadata": {},
   "outputs": [
    {
     "data": {
      "text/plain": [
       "array([[   1,    1,    1,   19,    0,    4],\n",
       "       [   2,    2,    1,   32,    4,    5],\n",
       "       [   3,    3,    1,   43,    3,    0],\n",
       "       ...,\n",
       "       [5244, 5244,    1,   76,  595,   96],\n",
       "       [5245, 5245,    1,   71,  597,    1],\n",
       "       [5246, 5246,    1,   66,  599,   92]])"
      ]
     },
     "execution_count": 72,
     "metadata": {},
     "output_type": "execute_result"
    }
   ],
   "source": [
    "cell_arr_type"
   ]
  },
  {
   "cell_type": "code",
   "execution_count": 73,
   "metadata": {},
   "outputs": [
    {
     "name": "stdout",
     "output_type": "stream",
     "text": [
      "<_io.TextIOWrapper name='atoms_init_f.bp' mode='r' encoding='UTF-8'>\n"
     ]
    },
    {
     "data": {
      "image/png": "[encoded data removed]",
      "text/plain": [
       "<Figure size 1440x288 with 1 Axes>"
      ]
     },
     "metadata": {
      "needs_background": "light"
     },
     "output_type": "display_data"
    }
   ],
   "source": [
    "fig = plt.figure(figsize=(20,4))\n",
    "ax = fig.add_subplot(111, projection='3d')\n",
    "\n",
    "\n",
    "\n",
    "n = 200\n",
    "\n",
    "t =12\n",
    "\n",
    "xlim = 90\n",
    "ylim = 600\n",
    "zlim = 100\n",
    "# For each set of style and range settings, plot n random points in the box\n",
    "# defined by x in [23, 32], y in [0, 100], z in [zlow, zhigh].\n",
    "#for m in arr:\n",
    "#    ax.scatter(*m[1:4],s= (m[4])**2,cmap='viridis')\n",
    "x=cell_arr[:,1].flatten()\n",
    "y= cell_arr[:,2].flatten()\n",
    "z=cell_arr[:,3].flatten()\n",
    "#f = np.sum(cell_arr[t,:,7:]**2,axis=1)**.5\n",
    "\n",
    "ax.set_xlabel('X Label')\n",
    "ax.set_ylabel('Y Label')\n",
    "ax.set_zlabel('Z Label')\n",
    "ax.set_xlim([0,90])\n",
    "ax.set_ylim([0,1400])\n",
    "\n",
    "ax.set_zlim([0,300])\n",
    "\n",
    "\n",
    "\n",
    "im = ax.scatter(x, y, z,s=40);\n",
    "ax.view_init(0, 360)\n",
    "\n",
    "print(f)\n",
    "\n",
    "\n",
    "plt.show()\n",
    "\n"
   ]
  },
  {
   "cell_type": "code",
   "execution_count": 13,
   "metadata": {},
   "outputs": [
    {
     "data": {
      "text/plain": [
       "array([1.0805732e+00, 1.0841012e+01, 7.2967720e+00, ..., 1.3906284e+03,\n",
       "       1.3937952e+03, 1.3979840e+03])"
      ]
     },
     "execution_count": 13,
     "metadata": {},
     "output_type": "execute_result"
    }
   ],
   "source": [
    "y"
   ]
  },
  {
   "cell_type": "code",
   "execution_count": null,
   "metadata": {},
   "outputs": [],
   "source": []
  }
 ],
 "metadata": {
  "kernelspec": {
   "display_name": "Python 3",
   "language": "python",
   "name": "python3"
  },
  "language_info": {
   "codemirror_mode": {
    "name": "ipython",
    "version": 3
   },
   "file_extension": ".py",
   "mimetype": "text/x-python",
   "name": "python",
   "nbconvert_exporter": "python",
   "pygments_lexer": "ipython3",
   "version": "3.8.3"
  }
 },
 "nbformat": 4,
 "nbformat_minor": 4
}
